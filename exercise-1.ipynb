{
 "cells": [
  {
   "cell_type": "code",
   "execution_count": 22,
   "metadata": {},
   "outputs": [
    {
     "name": "stdout",
     "output_type": "stream",
     "text": [
      "A Brief Profile of C. Dickens in 505 characters.\n",
      "\n",
      "Hello. My name is Charles Dickens.\n",
      "I am an English novelist. I was born on February 7, 1812, in Portsmouth, England.\n",
      "I am most famous as a writer of the Victorian era.\n",
      "I married Catherine Hogarth in 1836. We have ten children.\n",
      "Some of my most famous works include \"A Christmas Carol\", \"Oliver Twist\", \"David Copperfield\", and \"Great Expectations\".\n",
      "Besides being a writer, my other talent was doing dramatic public readings of my work.\n",
      "I died on June 9, 1870, at my home in Gad's Hill Place, Kent, England.\n",
      "SUCCESS! Yes, your output text matches the test text.\n"
     ]
    }
   ],
   "source": [
    "name = \"CHARLES DICKENS\"\n",
    "dob = \"February 7, 1812\"\n",
    "birthplace = \"portsmouth, England\"\n",
    "famous_for = \"A writer of the Victorian era\"\n",
    "married_to = \"Catherine Hogarth\"\n",
    "year_of_marriage = \"1836\"\n",
    "number_of_children = \"ten\"\n",
    "famous_works = '\"A Christmas Carol\", \"Oliver Twist\", \"David Copperfield\", and \"Great Expectations\"'\n",
    "other_talent = \"doing DRAMATIC public readings of my work\"\n",
    "death_date = \"June 9, 1870\"\n",
    "place_of_death = \"Gad's Hill Place, Kent, England\"\n",
    "\n",
    "\n",
    "output_text = f'''Hello. My name is {name.title()}.\n",
    "I am an English novelist. I was born on {dob}, in {birthplace.title()}.\n",
    "I am most famous as {famous_for[0].lower()+famous_for[1:]}.\n",
    "I married {married_to} in {year_of_marriage}. We have {number_of_children} children.\n",
    "Some of my most famous works include {famous_works}.\n",
    "Besides being a writer, my other talent was {other_talent.replace(\"DRAMATIC\",\"dramatic\")}.\n",
    "I died on {death_date}, at my home in {place_of_death}.'''\n",
    "\n",
    "title =f'''A Brief Profile of {name[0].upper() + '. ' + name.split()[-1].title()} in {len(output_text)} characters.\n",
    "\n",
    "'''\n",
    "output_text=title+output_text\n",
    "\n",
    "print(output_text)\n",
    "\n",
    "test_text = f'''A Brief Profile of C. Dickens in 505 characters.\n",
    "\n",
    "Hello. My name is Charles Dickens.\n",
    "I am an English novelist. I was born on February 7, 1812, in Portsmouth, England.\n",
    "I am most famous as a writer of the Victorian era.\n",
    "I married Catherine Hogarth in 1836. We have ten children.\n",
    "Some of my most famous works include \"A Christmas Carol\", \"Oliver Twist\", \"David Copperfield\", and \"Great Expectations\".\n",
    "Besides being a writer, my other talent was doing dramatic public readings of my work.\n",
    "I died on June 9, 1870, at my home in Gad's Hill Place, Kent, England.'''\n",
    "\n",
    "if output_text == test_text:\n",
    "    print(\"SUCCESS! Yes, your output text matches the test text.\")\n",
    "else:\n",
    "    print(\"OOPS!!! Sorry, your output text does not match the test text.\")\n"
   ]
  }
 ],
 "metadata": {
  "kernelspec": {
   "display_name": "Python 3",
   "language": "python",
   "name": "python3"
  },
  "language_info": {
   "codemirror_mode": {
    "name": "ipython",
    "version": 3
   },
   "file_extension": ".py",
   "mimetype": "text/x-python",
   "name": "python",
   "nbconvert_exporter": "python",
   "pygments_lexer": "ipython3",
   "version": "3.8.10"
  }
 },
 "nbformat": 4,
 "nbformat_minor": 2
}
